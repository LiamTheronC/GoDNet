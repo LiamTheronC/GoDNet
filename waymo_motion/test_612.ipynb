{
 "cells": [
  {
   "cell_type": "code",
   "execution_count": 7,
   "metadata": {},
   "outputs": [],
   "source": [
    "import torch\n",
    "import numpy as np\n",
    "import copy\n",
    "import matplotlib.pyplot as plt\n",
    "from preprocess_6 import Waymo_Motion_Preprocess_6\n",
    "from data_loader import Waymo_Motion_DataLoader\n",
    "\n",
    "config = dict()\n",
    "config['pred_range'] = [-100.0, 100.0, -100.0, 100.0]\n",
    "config['num_scales'] = 6\n",
    "config['cross_dist'] = 6\n",
    "config['downsample_factor'] = 10\n",
    "\n",
    "config['train'] = '/home/avt/prediction/Waymo/dataset/train'\n",
    "config['train_p'] = '/home/avt/prediction/Waymo/data_processed/train_p/'"
   ]
  },
  {
   "cell_type": "code",
   "execution_count": 8,
   "metadata": {},
   "outputs": [],
   "source": [
    "sample_list = torch.load('sample_list.pt')"
   ]
  },
  {
   "cell_type": "code",
   "execution_count": 9,
   "metadata": {},
   "outputs": [
    {
     "data": {
      "text/plain": [
       "dict_keys(['timestampsSeconds', 'tracks', 'scenarioId', 'sdcTrackIndex', 'dynamicMapStates', 'mapFeatures', 'currentTimeIndex', 'tracksToPredict'])"
      ]
     },
     "execution_count": 9,
     "metadata": {},
     "output_type": "execute_result"
    }
   ],
   "source": [
    "sample_list[0].keys()"
   ]
  },
  {
   "cell_type": "code",
   "execution_count": 10,
   "metadata": {},
   "outputs": [],
   "source": [
    "scen = Waymo_Motion_Preprocess_6(sample_list, config)"
   ]
  },
  {
   "cell_type": "code",
   "execution_count": 11,
   "metadata": {},
   "outputs": [],
   "source": [
    "zz = scen[0]"
   ]
  },
  {
   "cell_type": "code",
   "execution_count": 12,
   "metadata": {},
   "outputs": [
    {
     "data": {
      "text/plain": [
       "['scenario_id',\n",
       " 'time_stamps',\n",
       " 'current_time_index',\n",
       " 'sdc_index',\n",
       " 'objects_of_interest',\n",
       " 'object_ids',\n",
       " 'object_types',\n",
       " 'trajs_xyz',\n",
       " 'velocity_xy_heading',\n",
       " 'shapes',\n",
       " 'valid_masks',\n",
       " 'target_indx',\n",
       " 'target_id',\n",
       " 'target_type',\n",
       " 'orig',\n",
       " 'theta',\n",
       " 'rot',\n",
       " 'engage_id',\n",
       " 'engage_indx',\n",
       " 'feats',\n",
       " 'ctrs',\n",
       " 'gt_preds',\n",
       " 'has_preds',\n",
       " 'target_indx_e',\n",
       " 'road_info',\n",
       " 'graph']"
      ]
     },
     "execution_count": 12,
     "metadata": {},
     "output_type": "execute_result"
    }
   ],
   "source": [
    "list(zz.keys())"
   ]
  },
  {
   "cell_type": "code",
   "execution_count": 14,
   "metadata": {},
   "outputs": [
    {
     "data": {
      "text/plain": [
       "dict_keys(['roadLine', 'roadEdge', 'lane', 'crosswalk', 'speedBump', 'driveway', 'road_Edge_and_Lines', 'dynamic_map'])"
      ]
     },
     "execution_count": 14,
     "metadata": {},
     "output_type": "execute_result"
    }
   ],
   "source": [
    "zz['road_info'].keys()"
   ]
  },
  {
   "cell_type": "code",
   "execution_count": 17,
   "metadata": {},
   "outputs": [
    {
     "name": "stdout",
     "output_type": "stream",
     "text": [
      "roadLine\n",
      "dict_keys(['id', 'polyline', 'type'])\n",
      "roadEdge\n",
      "dict_keys(['id', 'polyline', 'type'])\n",
      "lane\n",
      "dict_keys(['135', '136', '138', '139', '140', '141', '142', '143', '144', '145', '146', '147', '148', '149', '150', '151', '152', '153', '155', '161', '168', '169', '174', '175', '176', '177', '178', '179', '180', '181', '182', '183', '184', '185', '186', '187', '188', '189', '190', '191', '192', '193', '194', '195', '196', '197', '198', '199', '200', '201', '202', '203', '204', '205', '206', '207', '208', '209', '210', '211', '212', '213', '214', '215', '216', '217', '218', '219', '220', '221', '222', '223', '224', '225', '226', '227', '228', '229', '230', '231', '232', '233', '234', '235', '236', '237', '238', '239', '240', '241', '242', '243', '244', '245', '246', '247', '248', '249', '250', '251', '252', '253', '254', '255', '256', '258', '259', '260', '261', '262', '263', '264', '265', '266', '267', '268', '269', '270', '271', '272', '273', '274', '275', '276', '277', '278', '279', '280', '281', '282', '283', '284', '285', '286', '287', '288', '289', '290', '291', '292', '293', '294', '295', '296', '297', '298', '299', '300', '301', '302', '303', '304', '305', '306', '307', '308', '309', '310', '311', '312', '313', '314', '315', '316', '317', '318', '319', '320', '321', '322', '323', '324', '325', '326', '327', '328', '329', '330', '331', '332', '333', '334', '335', '336', '337', '338', '339', '340', '341', '342', '343', '348', '349', '350', '351', '352', '353', '354', '355', '356', '357', '359', '360', '361', '362', '363', '364', '366', '371', '372', '373', '387', '388', '389', '390', '391', '392', '393', '394', '396', '398', '399', '400', '401', '402', '403', '404', '405', '406', '407', '408', '409', '410', '411', '412', '424', '426'])\n",
      "crosswalk\n",
      "dict_keys(['id', 'polygon'])\n",
      "speedBump\n",
      "dict_keys(['id', 'polygon'])\n",
      "driveway\n",
      "dict_keys(['id', 'polygon'])\n",
      "road_Edge_and_Lines\n",
      "dict_keys(['id', 'polyline', 'type'])\n",
      "dynamic_map\n",
      "dict_keys(['290', '291', '299', '307', '308', '309', '310', '311', '314', '317', '319', '320', '322', '324', '304', '312', '313'])\n"
     ]
    }
   ],
   "source": [
    "for key in zz['road_info'].keys():\n",
    "    print(key)\n",
    "    print(zz['road_info'][key].keys())"
   ]
  },
  {
   "cell_type": "code",
   "execution_count": 18,
   "metadata": {},
   "outputs": [
    {
     "data": {
      "text/plain": [
       "dict_keys(['ctrs', 'feats', 'num_nodes', 'node_idcs', 'pre_pairs', 'suc_pairs', 'left_pairs', 'right_pairs', 'pre', 'suc', 'left', 'right', 'lane_idcs'])"
      ]
     },
     "execution_count": 18,
     "metadata": {},
     "output_type": "execute_result"
    }
   ],
   "source": [
    "zz['graph'].keys()"
   ]
  },
  {
   "cell_type": "code",
   "execution_count": null,
   "metadata": {},
   "outputs": [],
   "source": [
    "zz['trajs_xyz'][99][10]"
   ]
  },
  {
   "cell_type": "code",
   "execution_count": null,
   "metadata": {},
   "outputs": [],
   "source": [
    "zz['orig']"
   ]
  },
  {
   "cell_type": "code",
   "execution_count": null,
   "metadata": {},
   "outputs": [],
   "source": [
    "zz['object_types'][99]"
   ]
  },
  {
   "cell_type": "code",
   "execution_count": null,
   "metadata": {},
   "outputs": [],
   "source": [
    "zz['target_id']"
   ]
  },
  {
   "cell_type": "code",
   "execution_count": null,
   "metadata": {},
   "outputs": [],
   "source": [
    "zz['object_ids'][32]"
   ]
  },
  {
   "cell_type": "code",
   "execution_count": null,
   "metadata": {},
   "outputs": [],
   "source": [
    "zz['graph'].keys()"
   ]
  },
  {
   "cell_type": "code",
   "execution_count": null,
   "metadata": {},
   "outputs": [],
   "source": [
    "zz['ctrs']"
   ]
  },
  {
   "cell_type": "code",
   "execution_count": null,
   "metadata": {},
   "outputs": [],
   "source": [
    "def pre_plot(data):\n",
    "\n",
    "    ctrs = data['graph']['ctrs']\n",
    "    left = data['graph']['left']\n",
    "    right = data['graph']['right']\n",
    "    pre = data['graph']['pre'][0]\n",
    "    suc = data['graph']['suc'][0]\n",
    "\n",
    "    \n",
    "    g_ctrs = np.vstack(data['ctrs'])\n",
    "\n",
    "    plt.scatter(ctrs.T[0] ,ctrs.T[1], c = 'black',s = 0.05)\n",
    "    plt.scatter(g_ctrs.T[0] ,g_ctrs.T[1], c = 'red',s = 5)\n",
    "\n",
    "    fx = right\n",
    "    fx1 = pre\n",
    "\n",
    "    for i in range(len(fx['u'])):\n",
    "        p1 = ctrs[fx['u'][i]]\n",
    "        p2 = ctrs[fx['v'][i]]\n",
    "        plt.plot([p1[0],p2[0]],[p1[1],p2[1]],color = 'skyblue', linewidth = 0.2)\n",
    "\n",
    "    for i in range(len(fx1['u'])):\n",
    "        p1 = ctrs[fx1['u'][i]]\n",
    "        p2 = ctrs[fx1['v'][i]]\n",
    "        plt.plot([p1[0],p2[0]],[p1[1],p2[1]],color = 'red', linewidth = 0.2)\n",
    "\n",
    "    # plt.plot(clx.T[0],clx.T[1],color='green')\n",
    "    # plt.plot(clx1.T[0],clx1.T[1],color='brown')\n",
    "\n",
    "    plt.gca().set_aspect('equal')\n",
    "    plt.xlabel('x(m)')\n",
    "    plt.ylabel('y(m)')\n",
    "    plt.title('Visualization of pairs')\n",
    "    plt.savefig('/home/avt/Desktop/' + 'tt8'+'.png',dpi=1200)"
   ]
  },
  {
   "cell_type": "code",
   "execution_count": null,
   "metadata": {},
   "outputs": [],
   "source": [
    "pre_plot(zz)"
   ]
  },
  {
   "cell_type": "code",
   "execution_count": null,
   "metadata": {},
   "outputs": [],
   "source": [
    "file = '/home/avt/prediction/Waymo/data_processed/train_p/0_1.pt'"
   ]
  },
  {
   "cell_type": "code",
   "execution_count": null,
   "metadata": {},
   "outputs": [],
   "source": [
    "ff = torch.load(file)"
   ]
  },
  {
   "cell_type": "code",
   "execution_count": null,
   "metadata": {},
   "outputs": [],
   "source": [
    "ff['target_type']"
   ]
  },
  {
   "cell_type": "code",
   "execution_count": null,
   "metadata": {},
   "outputs": [],
   "source": [
    "ff['target_id']"
   ]
  },
  {
   "cell_type": "code",
   "execution_count": null,
   "metadata": {},
   "outputs": [],
   "source": [
    "train_dataset = Waymo_Motion_DataLoader(config['train'])\n",
    "    #train_dataset = Waymo_Motion_DataLoader(config['validation'])\n",
    "j = 0\n",
    "scen_list = train_dataset[j].read_TFRecord"
   ]
  },
  {
   "cell_type": "code",
   "execution_count": null,
   "metadata": {},
   "outputs": [],
   "source": [
    "scen_list[2].keys()"
   ]
  },
  {
   "cell_type": "code",
   "execution_count": null,
   "metadata": {},
   "outputs": [],
   "source": [
    "scen_list[2]['tracksToPredict']"
   ]
  },
  {
   "cell_type": "code",
   "execution_count": null,
   "metadata": {},
   "outputs": [],
   "source": [
    "scen_list[2]['tracks'][64]"
   ]
  },
  {
   "cell_type": "code",
   "execution_count": null,
   "metadata": {},
   "outputs": [],
   "source": []
  }
 ],
 "metadata": {
  "kernelspec": {
   "display_name": "Python 3",
   "language": "python",
   "name": "python3"
  },
  "language_info": {
   "codemirror_mode": {
    "name": "ipython",
    "version": 3
   },
   "file_extension": ".py",
   "mimetype": "text/x-python",
   "name": "python",
   "nbconvert_exporter": "python",
   "pygments_lexer": "ipython3",
   "version": "3.8.16"
  }
 },
 "nbformat": 4,
 "nbformat_minor": 0
}
